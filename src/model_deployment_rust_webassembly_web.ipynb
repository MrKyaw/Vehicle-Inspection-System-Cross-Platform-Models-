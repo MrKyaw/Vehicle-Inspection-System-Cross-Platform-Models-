{
 "cells": [
  {
   "cell_type": "markdown",
   "id": "285ba54e",
   "metadata": {},
   "source": []
  },
  {
   "cell_type": "markdown",
   "id": "0d6355ac",
   "metadata": {},
   "source": []
  }
 ],
 "metadata": {
  "kernelspec": {
   "display_name": "python_310_env",
   "language": "python",
   "name": "python3"
  },
  "language_info": {
   "name": "python",
   "version": "3.10.16"
  }
 },
 "nbformat": 4,
 "nbformat_minor": 5
}
